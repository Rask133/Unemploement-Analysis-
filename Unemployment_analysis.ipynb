{
  "nbformat": 4,
  "nbformat_minor": 0,
  "metadata": {
    "colab": {
      "provenance": []
    },
    "kernelspec": {
      "name": "python3",
      "display_name": "Python 3"
    },
    "language_info": {
      "name": "python"
    }
  },
  "cells": [
    {
      "cell_type": "markdown",
      "source": [
        "# Data Reading\n"
      ],
      "metadata": {
        "id": "0z69XNd4U-Zv"
      }
    },
    {
      "cell_type": "code",
      "source": [
        "#Import Libraries\n",
        "import pandas as pd\n",
        "import numpy as np\n",
        "import matplotlib.pyplot as plt\n",
        "import seaborn as sns\n",
        "import random\n",
        "from scipy.stats import zscore\n",
        "from scipy import stats\n",
        "from statsmodels.tsa.arima.model import ARIMA\n",
        "\n",
        "\n",
        "import warnings\n",
        "warnings.filterwarnings('ignore')"
      ],
      "metadata": {
        "id": "0STYmSOXVGgC"
      },
      "execution_count": null,
      "outputs": []
    },
    {
      "cell_type": "code",
      "source": [
        "random.seed(42)\n",
        "\n",
        "#Load the data\n",
        "df=pd.read_csv('/content/unemployment_analysis.csv')\n",
        "\n",
        "#Convert string to float\n",
        "df.iloc[0:,2:] = df.iloc[0:,2:].applymap(lambda x: str(x).replace('lacs','').strip())\n",
        "df.iloc[0:,2:] = df.iloc[0:,2:].astype(float).fillna(0.0)\n",
        "\n",
        "df.head()\n"
      ],
      "metadata": {
        "colab": {
          "base_uri": "https://localhost:8080/",
          "height": 236
        },
        "id": "1QX6vr8nVkpo",
        "outputId": "6c228bf1-30e8-4d98-b0f3-2221bfdd466c"
      },
      "execution_count": null,
      "outputs": [
        {
          "output_type": "execute_result",
          "data": {
            "text/plain": [
              "                  Country Name Country Code   1991   1992   1993   1994  \\\n",
              "0  Africa Eastern and Southern          AFE    7.8   7.84   7.85   7.84   \n",
              "1                  Afghanistan          AFG  10.65  10.82  10.72  10.73   \n",
              "2   Africa Western and Central          AFW   4.42   4.53   4.55   4.54   \n",
              "3                       Angola          AGO   4.21   4.21   4.23   4.16   \n",
              "4                      Albania          ALB  10.31  30.01  25.26  20.84   \n",
              "\n",
              "    1995   1996   1997   1998  ...   2012   2013   2014   2015   2016   2017  \\\n",
              "0   7.83   7.84   7.86   7.81  ...   6.56   6.45   6.41   6.49   6.61   6.71   \n",
              "1  11.18  10.96  10.78   10.8  ...  11.34  11.19  11.14  11.13  11.16  11.18   \n",
              "2   4.53   4.57    4.6   4.66  ...   4.64   4.41   4.69   4.63   5.57   6.02   \n",
              "3   4.11    4.1   4.09   4.07  ...   7.35   7.37   7.37   7.39   7.41   7.41   \n",
              "4  14.61  13.93  16.88  20.05  ...  13.38  15.87  18.05  17.19  15.42  13.62   \n",
              "\n",
              "    2018   2019   2020   2021  \n",
              "0   6.73   6.91   7.56   8.11  \n",
              "1  11.15  11.22  11.71  13.28  \n",
              "2   6.04   6.06   6.77   6.84  \n",
              "3   7.42   7.42   8.33   8.53  \n",
              "4   12.3  11.47  13.33  11.82  \n",
              "\n",
              "[5 rows x 33 columns]"
            ],
            "text/html": [
              "\n",
              "  <div id=\"df-9624c3e3-ee58-4610-aafb-427ea3c850a1\">\n",
              "    <div class=\"colab-df-container\">\n",
              "      <div>\n",
              "<style scoped>\n",
              "    .dataframe tbody tr th:only-of-type {\n",
              "        vertical-align: middle;\n",
              "    }\n",
              "\n",
              "    .dataframe tbody tr th {\n",
              "        vertical-align: top;\n",
              "    }\n",
              "\n",
              "    .dataframe thead th {\n",
              "        text-align: right;\n",
              "    }\n",
              "</style>\n",
              "<table border=\"1\" class=\"dataframe\">\n",
              "  <thead>\n",
              "    <tr style=\"text-align: right;\">\n",
              "      <th></th>\n",
              "      <th>Country Name</th>\n",
              "      <th>Country Code</th>\n",
              "      <th>1991</th>\n",
              "      <th>1992</th>\n",
              "      <th>1993</th>\n",
              "      <th>1994</th>\n",
              "      <th>1995</th>\n",
              "      <th>1996</th>\n",
              "      <th>1997</th>\n",
              "      <th>1998</th>\n",
              "      <th>...</th>\n",
              "      <th>2012</th>\n",
              "      <th>2013</th>\n",
              "      <th>2014</th>\n",
              "      <th>2015</th>\n",
              "      <th>2016</th>\n",
              "      <th>2017</th>\n",
              "      <th>2018</th>\n",
              "      <th>2019</th>\n",
              "      <th>2020</th>\n",
              "      <th>2021</th>\n",
              "    </tr>\n",
              "  </thead>\n",
              "  <tbody>\n",
              "    <tr>\n",
              "      <th>0</th>\n",
              "      <td>Africa Eastern and Southern</td>\n",
              "      <td>AFE</td>\n",
              "      <td>7.8</td>\n",
              "      <td>7.84</td>\n",
              "      <td>7.85</td>\n",
              "      <td>7.84</td>\n",
              "      <td>7.83</td>\n",
              "      <td>7.84</td>\n",
              "      <td>7.86</td>\n",
              "      <td>7.81</td>\n",
              "      <td>...</td>\n",
              "      <td>6.56</td>\n",
              "      <td>6.45</td>\n",
              "      <td>6.41</td>\n",
              "      <td>6.49</td>\n",
              "      <td>6.61</td>\n",
              "      <td>6.71</td>\n",
              "      <td>6.73</td>\n",
              "      <td>6.91</td>\n",
              "      <td>7.56</td>\n",
              "      <td>8.11</td>\n",
              "    </tr>\n",
              "    <tr>\n",
              "      <th>1</th>\n",
              "      <td>Afghanistan</td>\n",
              "      <td>AFG</td>\n",
              "      <td>10.65</td>\n",
              "      <td>10.82</td>\n",
              "      <td>10.72</td>\n",
              "      <td>10.73</td>\n",
              "      <td>11.18</td>\n",
              "      <td>10.96</td>\n",
              "      <td>10.78</td>\n",
              "      <td>10.8</td>\n",
              "      <td>...</td>\n",
              "      <td>11.34</td>\n",
              "      <td>11.19</td>\n",
              "      <td>11.14</td>\n",
              "      <td>11.13</td>\n",
              "      <td>11.16</td>\n",
              "      <td>11.18</td>\n",
              "      <td>11.15</td>\n",
              "      <td>11.22</td>\n",
              "      <td>11.71</td>\n",
              "      <td>13.28</td>\n",
              "    </tr>\n",
              "    <tr>\n",
              "      <th>2</th>\n",
              "      <td>Africa Western and Central</td>\n",
              "      <td>AFW</td>\n",
              "      <td>4.42</td>\n",
              "      <td>4.53</td>\n",
              "      <td>4.55</td>\n",
              "      <td>4.54</td>\n",
              "      <td>4.53</td>\n",
              "      <td>4.57</td>\n",
              "      <td>4.6</td>\n",
              "      <td>4.66</td>\n",
              "      <td>...</td>\n",
              "      <td>4.64</td>\n",
              "      <td>4.41</td>\n",
              "      <td>4.69</td>\n",
              "      <td>4.63</td>\n",
              "      <td>5.57</td>\n",
              "      <td>6.02</td>\n",
              "      <td>6.04</td>\n",
              "      <td>6.06</td>\n",
              "      <td>6.77</td>\n",
              "      <td>6.84</td>\n",
              "    </tr>\n",
              "    <tr>\n",
              "      <th>3</th>\n",
              "      <td>Angola</td>\n",
              "      <td>AGO</td>\n",
              "      <td>4.21</td>\n",
              "      <td>4.21</td>\n",
              "      <td>4.23</td>\n",
              "      <td>4.16</td>\n",
              "      <td>4.11</td>\n",
              "      <td>4.1</td>\n",
              "      <td>4.09</td>\n",
              "      <td>4.07</td>\n",
              "      <td>...</td>\n",
              "      <td>7.35</td>\n",
              "      <td>7.37</td>\n",
              "      <td>7.37</td>\n",
              "      <td>7.39</td>\n",
              "      <td>7.41</td>\n",
              "      <td>7.41</td>\n",
              "      <td>7.42</td>\n",
              "      <td>7.42</td>\n",
              "      <td>8.33</td>\n",
              "      <td>8.53</td>\n",
              "    </tr>\n",
              "    <tr>\n",
              "      <th>4</th>\n",
              "      <td>Albania</td>\n",
              "      <td>ALB</td>\n",
              "      <td>10.31</td>\n",
              "      <td>30.01</td>\n",
              "      <td>25.26</td>\n",
              "      <td>20.84</td>\n",
              "      <td>14.61</td>\n",
              "      <td>13.93</td>\n",
              "      <td>16.88</td>\n",
              "      <td>20.05</td>\n",
              "      <td>...</td>\n",
              "      <td>13.38</td>\n",
              "      <td>15.87</td>\n",
              "      <td>18.05</td>\n",
              "      <td>17.19</td>\n",
              "      <td>15.42</td>\n",
              "      <td>13.62</td>\n",
              "      <td>12.3</td>\n",
              "      <td>11.47</td>\n",
              "      <td>13.33</td>\n",
              "      <td>11.82</td>\n",
              "    </tr>\n",
              "  </tbody>\n",
              "</table>\n",
              "<p>5 rows × 33 columns</p>\n",
              "</div>\n",
              "      <button class=\"colab-df-convert\" onclick=\"convertToInteractive('df-9624c3e3-ee58-4610-aafb-427ea3c850a1')\"\n",
              "              title=\"Convert this dataframe to an interactive table.\"\n",
              "              style=\"display:none;\">\n",
              "        \n",
              "  <svg xmlns=\"http://www.w3.org/2000/svg\" height=\"24px\"viewBox=\"0 0 24 24\"\n",
              "       width=\"24px\">\n",
              "    <path d=\"M0 0h24v24H0V0z\" fill=\"none\"/>\n",
              "    <path d=\"M18.56 5.44l.94 2.06.94-2.06 2.06-.94-2.06-.94-.94-2.06-.94 2.06-2.06.94zm-11 1L8.5 8.5l.94-2.06 2.06-.94-2.06-.94L8.5 2.5l-.94 2.06-2.06.94zm10 10l.94 2.06.94-2.06 2.06-.94-2.06-.94-.94-2.06-.94 2.06-2.06.94z\"/><path d=\"M17.41 7.96l-1.37-1.37c-.4-.4-.92-.59-1.43-.59-.52 0-1.04.2-1.43.59L10.3 9.45l-7.72 7.72c-.78.78-.78 2.05 0 2.83L4 21.41c.39.39.9.59 1.41.59.51 0 1.02-.2 1.41-.59l7.78-7.78 2.81-2.81c.8-.78.8-2.07 0-2.86zM5.41 20L4 18.59l7.72-7.72 1.47 1.35L5.41 20z\"/>\n",
              "  </svg>\n",
              "      </button>\n",
              "      \n",
              "  <style>\n",
              "    .colab-df-container {\n",
              "      display:flex;\n",
              "      flex-wrap:wrap;\n",
              "      gap: 12px;\n",
              "    }\n",
              "\n",
              "    .colab-df-convert {\n",
              "      background-color: #E8F0FE;\n",
              "      border: none;\n",
              "      border-radius: 50%;\n",
              "      cursor: pointer;\n",
              "      display: none;\n",
              "      fill: #1967D2;\n",
              "      height: 32px;\n",
              "      padding: 0 0 0 0;\n",
              "      width: 32px;\n",
              "    }\n",
              "\n",
              "    .colab-df-convert:hover {\n",
              "      background-color: #E2EBFA;\n",
              "      box-shadow: 0px 1px 2px rgba(60, 64, 67, 0.3), 0px 1px 3px 1px rgba(60, 64, 67, 0.15);\n",
              "      fill: #174EA6;\n",
              "    }\n",
              "\n",
              "    [theme=dark] .colab-df-convert {\n",
              "      background-color: #3B4455;\n",
              "      fill: #D2E3FC;\n",
              "    }\n",
              "\n",
              "    [theme=dark] .colab-df-convert:hover {\n",
              "      background-color: #434B5C;\n",
              "      box-shadow: 0px 1px 3px 1px rgba(0, 0, 0, 0.15);\n",
              "      filter: drop-shadow(0px 1px 2px rgba(0, 0, 0, 0.3));\n",
              "      fill: #FFFFFF;\n",
              "    }\n",
              "  </style>\n",
              "\n",
              "      <script>\n",
              "        const buttonEl =\n",
              "          document.querySelector('#df-9624c3e3-ee58-4610-aafb-427ea3c850a1 button.colab-df-convert');\n",
              "        buttonEl.style.display =\n",
              "          google.colab.kernel.accessAllowed ? 'block' : 'none';\n",
              "\n",
              "        async function convertToInteractive(key) {\n",
              "          const element = document.querySelector('#df-9624c3e3-ee58-4610-aafb-427ea3c850a1');\n",
              "          const dataTable =\n",
              "            await google.colab.kernel.invokeFunction('convertToInteractive',\n",
              "                                                     [key], {});\n",
              "          if (!dataTable) return;\n",
              "\n",
              "          const docLinkHtml = 'Like what you see? Visit the ' +\n",
              "            '<a target=\"_blank\" href=https://colab.research.google.com/notebooks/data_table.ipynb>data table notebook</a>'\n",
              "            + ' to learn more about interactive tables.';\n",
              "          element.innerHTML = '';\n",
              "          dataTable['output_type'] = 'display_data';\n",
              "          await google.colab.output.renderOutput(dataTable, element);\n",
              "          const docLink = document.createElement('div');\n",
              "          docLink.innerHTML = docLinkHtml;\n",
              "          element.appendChild(docLink);\n",
              "        }\n",
              "      </script>\n",
              "    </div>\n",
              "  </div>\n",
              "  "
            ]
          },
          "metadata": {},
          "execution_count": 2
        }
      ]
    },
    {
      "cell_type": "code",
      "source": [
        "#Print the data type of each column\n",
        "print(df.dtypes)\n"
      ],
      "metadata": {
        "colab": {
          "base_uri": "https://localhost:8080/"
        },
        "id": "Z4IiEf9VB83n",
        "outputId": "8b8c1645-6b31-4045-f663-b1074bcbfbe6"
      },
      "execution_count": null,
      "outputs": [
        {
          "output_type": "stream",
          "name": "stdout",
          "text": [
            "Country Name    object\n",
            "Country Code    object\n",
            "1991            object\n",
            "1992            object\n",
            "1993            object\n",
            "1994            object\n",
            "1995            object\n",
            "1996            object\n",
            "1997            object\n",
            "1998            object\n",
            "1999            object\n",
            "2000            object\n",
            "2001            object\n",
            "2002            object\n",
            "2003            object\n",
            "2004            object\n",
            "2005            object\n",
            "2006            object\n",
            "2007            object\n",
            "2008            object\n",
            "2009            object\n",
            "2010            object\n",
            "2011            object\n",
            "2012            object\n",
            "2013            object\n",
            "2014            object\n",
            "2015            object\n",
            "2016            object\n",
            "2017            object\n",
            "2018            object\n",
            "2019            object\n",
            "2020            object\n",
            "2021            object\n",
            "dtype: object\n"
          ]
        }
      ]
    },
    {
      "cell_type": "code",
      "source": [
        "#Print Country name with its respective Code:\n",
        "print(df[['Country Name','Country Code']].drop_duplicates())"
      ],
      "metadata": {
        "colab": {
          "base_uri": "https://localhost:8080/"
        },
        "id": "LaUeVWqhil0w",
        "outputId": "0e5695b3-5152-414f-9fd4-57dcff424d46"
      },
      "execution_count": null,
      "outputs": [
        {
          "output_type": "stream",
          "name": "stdout",
          "text": [
            "                    Country Name Country Code\n",
            "0    Africa Eastern and Southern          AFE\n",
            "1                    Afghanistan          AFG\n",
            "2     Africa Western and Central          AFW\n",
            "3                         Angola          AGO\n",
            "4                        Albania          ALB\n",
            "..                           ...          ...\n",
            "230                        Samoa          WSM\n",
            "231                  Yemen, Rep.          YEM\n",
            "232                 South Africa          ZAF\n",
            "233                       Zambia          ZMB\n",
            "234                     Zimbabwe          ZWE\n",
            "\n",
            "[235 rows x 2 columns]\n"
          ]
        }
      ]
    },
    {
      "cell_type": "code",
      "source": [
        "#Find the total number of Unemployed people in each Country:\n",
        "\n",
        "df['Total_Unemployed']=df.iloc[0:,2:].sum(axis=1)\n",
        "print(df[['Country Name','Total_Unemployed']].drop_duplicates())"
      ],
      "metadata": {
        "colab": {
          "base_uri": "https://localhost:8080/"
        },
        "id": "ImSfZk0JfpQf",
        "outputId": "32e4d98b-363b-471f-fa3e-8fb829d1af80"
      },
      "execution_count": null,
      "outputs": [
        {
          "output_type": "stream",
          "name": "stdout",
          "text": [
            "                    Country Name  Total_Unemployed\n",
            "0    Africa Eastern and Southern            224.57\n",
            "1                    Afghanistan            345.38\n",
            "2     Africa Western and Central            153.27\n",
            "3                         Angola            169.02\n",
            "4                        Albania            505.86\n",
            "..                           ...               ...\n",
            "230                        Samoa            180.98\n",
            "231                  Yemen, Rep.            365.60\n",
            "232                 South Africa            875.21\n",
            "233                       Zambia            407.96\n",
            "234                     Zimbabwe            160.50\n",
            "\n",
            "[235 rows x 2 columns]\n"
          ]
        }
      ]
    },
    {
      "cell_type": "markdown",
      "source": [
        "# Data Cleaning"
      ],
      "metadata": {
        "id": "qdIRiry-CNnk"
      }
    },
    {
      "cell_type": "code",
      "source": [
        "#Check missing values\n",
        "\n",
        "def missing_values(value):\n",
        "  return value.isna().sum()\n",
        "\n",
        "missing_values = df.apply(missing_values)\n",
        "print(missing_values)\n",
        "\n"
      ],
      "metadata": {
        "id": "bUxhT4ZA-euP",
        "colab": {
          "base_uri": "https://localhost:8080/"
        },
        "outputId": "d1ee348f-de6e-4215-b80d-7f072caad91a"
      },
      "execution_count": null,
      "outputs": [
        {
          "output_type": "stream",
          "name": "stdout",
          "text": [
            "Country Name        0\n",
            "Country Code        0\n",
            "1991                0\n",
            "1992                0\n",
            "1993                0\n",
            "1994                0\n",
            "1995                0\n",
            "1996                0\n",
            "1997                0\n",
            "1998                0\n",
            "1999                0\n",
            "2000                0\n",
            "2001                0\n",
            "2002                0\n",
            "2003                0\n",
            "2004                0\n",
            "2005                0\n",
            "2006                0\n",
            "2007                0\n",
            "2008                0\n",
            "2009                0\n",
            "2010                0\n",
            "2011                0\n",
            "2012                0\n",
            "2013                0\n",
            "2014                0\n",
            "2015                0\n",
            "2016                0\n",
            "2017                0\n",
            "2018                0\n",
            "2019                0\n",
            "2020                0\n",
            "2021                0\n",
            "Total_Unemployed    0\n",
            "dtype: int64\n"
          ]
        }
      ]
    },
    {
      "cell_type": "markdown",
      "source": [
        "There are missing values in the year 2000 and in 2015. So we need fill those values with mean value for each country."
      ],
      "metadata": {
        "id": "YBF8lJPbakMA"
      }
    },
    {
      "cell_type": "code",
      "source": [
        "row_mean = df.mean(axis=1)\n",
        "df = df.apply(lambda x: x.fillna(row_mean[x.name]), axis=1)   # x.name gives the index label of the current row\n",
        "print(df.isnull().sum())\n"
      ],
      "metadata": {
        "colab": {
          "base_uri": "https://localhost:8080/"
        },
        "id": "BA8S_GJMQKLQ",
        "outputId": "baaceedd-0c0a-4c03-efb0-e6b066aa18c1"
      },
      "execution_count": null,
      "outputs": [
        {
          "output_type": "stream",
          "name": "stdout",
          "text": [
            "Country Name        0\n",
            "Country Code        0\n",
            "1991                0\n",
            "1992                0\n",
            "1993                0\n",
            "1994                0\n",
            "1995                0\n",
            "1996                0\n",
            "1997                0\n",
            "1998                0\n",
            "1999                0\n",
            "2000                0\n",
            "2001                0\n",
            "2002                0\n",
            "2003                0\n",
            "2004                0\n",
            "2005                0\n",
            "2006                0\n",
            "2007                0\n",
            "2008                0\n",
            "2009                0\n",
            "2010                0\n",
            "2011                0\n",
            "2012                0\n",
            "2013                0\n",
            "2014                0\n",
            "2015                0\n",
            "2016                0\n",
            "2017                0\n",
            "2018                0\n",
            "2019                0\n",
            "2020                0\n",
            "2021                0\n",
            "Total_Unemployed    0\n",
            "dtype: int64\n"
          ]
        }
      ]
    },
    {
      "cell_type": "markdown",
      "source": [
        "Now there are no missing values"
      ],
      "metadata": {
        "id": "Rs4RYtNBPa2r"
      }
    },
    {
      "cell_type": "code",
      "source": [
        "import seaborn as sns\n",
        "df=df.drop('Total_Unemployed',axis=1)\n",
        "subset_df=df[df['Country Name'].isin(['Behnin','Bahrain'])]\n",
        "\n",
        "# calculate interquartile range for each column\n",
        "Q1 = subset_df.quantile(0.25)\n",
        "Q3 = subset_df.quantile(0.75)\n",
        "IQR = Q3 - Q1\n",
        "\n",
        "# detect outliers for each column\n",
        "outliers = ((subset_df < (Q1 - 1.5 * IQR)) | (subset_df > (Q3 + 1.5 * IQR))).any()\n",
        "\n",
        "# replace outliers with mean/median/mode\n",
        "for col in subset_df.columns:\n",
        "    if outliers[col]:\n",
        "        # calculate the replacement value (e.g. median)\n",
        "        replacement = subset_df[col].median()\n",
        "        # replace the outliers with the calculated value\n",
        "        subset_df[col] = np.where((subset_df[col] < (Q1[col] - 1.5 * IQR[col])) | (subset_df[col] > (Q3[col] + 1.5 * IQR[col])), replacement, subset_df[col])\n",
        "\n",
        "# display the updated subset DataFrame\n",
        "print(subset_df)\n",
        "sns.boxplot(subset_df)\n"
      ],
      "metadata": {
        "id": "7u5XgrT7cnjV",
        "colab": {
          "base_uri": "https://localhost:8080/",
          "height": 569
        },
        "outputId": "e99e27d1-dcc0-42f1-fb40-022bbe88dd5f"
      },
      "execution_count": null,
      "outputs": [
        {
          "output_type": "stream",
          "name": "stdout",
          "text": [
            "   Country Name Country Code  1991  1992  1993  1994  1995  1996  1997  1998  \\\n",
            "18      Bahrain          BHR  1.01  1.05  1.01  1.11  1.08  1.08  1.09  1.08   \n",
            "\n",
            "    ...  2012  2013  2014  2015  2016  2017  2018  2019  2020  2021  \n",
            "18  ...   1.2  1.18  1.19   1.2  1.19  1.18   1.2   1.2  1.78  1.87  \n",
            "\n",
            "[1 rows x 33 columns]\n"
          ]
        },
        {
          "output_type": "execute_result",
          "data": {
            "text/plain": [
              "<Axes: >"
            ]
          },
          "metadata": {},
          "execution_count": 8
        },
        {
          "output_type": "display_data",
          "data": {
            "text/plain": [
              "<Figure size 640x480 with 1 Axes>"
            ],
            "image/png": "[encoded data removed]"
          },
          "metadata": {}
        }
      ]
    },
    {
      "cell_type": "code",
      "source": [
        "#Melt the dataframe to unpivot the 'Year' columns\n",
        "df_pivot = df.melt(id_vars=['Country Name','Country Code'], var_name='Year',value_name='No of Unemployed')\n",
        "\n",
        "# Sort the dataframe by 'Country' and 'Year'\n",
        "df_pivot = df_pivot.sort_values(by=['Country Name','Country Code','Year'])\n",
        "\n",
        "# Reset the index of the dataframe\n",
        "df_pivot = df_pivot.reset_index(drop=True)\n",
        "\n",
        "# Create a new column named 'No of unemployed' and insert the values\n",
        "for country in df_pivot['Country Name'].unique():\n",
        "    df_pivot.loc[df_pivot['Country Name']==country, 'No of Unemployed'] = df_pivot.loc[df_pivot['Country Name']==country, 'No of Unemployed']\n",
        "\n",
        "print(df_pivot)\n",
        "\n"
      ],
      "metadata": {
        "id": "_Nk4QfMTsRWh",
        "colab": {
          "base_uri": "https://localhost:8080/"
        },
        "outputId": "d9415e4b-ecd8-410e-a650-df1fefbf5ee1"
      },
      "execution_count": null,
      "outputs": [
        {
          "output_type": "stream",
          "name": "stdout",
          "text": [
            "     Country Name Country Code  Year  No of Unemployed\n",
            "0     Afghanistan          AFG  1991             10.65\n",
            "1     Afghanistan          AFG  1992             10.82\n",
            "2     Afghanistan          AFG  1993             10.72\n",
            "3     Afghanistan          AFG  1994             10.73\n",
            "4     Afghanistan          AFG  1995             11.18\n",
            "...           ...          ...   ...               ...\n",
            "7280     Zimbabwe          ZWE  2017              4.78\n",
            "7281     Zimbabwe          ZWE  2018              4.80\n",
            "7282     Zimbabwe          ZWE  2019              4.83\n",
            "7283     Zimbabwe          ZWE  2020              5.35\n",
            "7284     Zimbabwe          ZWE  2021              5.17\n",
            "\n",
            "[7285 rows x 4 columns]\n"
          ]
        }
      ]
    },
    {
      "cell_type": "code",
      "source": [
        "df_pivot=df_pivot.rename(columns={'Country Name':'Country_name'})\n",
        "df_pivot=df_pivot.rename(columns={'Country Code':'Country_code'})\n",
        "\n",
        "print(df_pivot)"
      ],
      "metadata": {
        "id": "_4Z9-cdX7AR-",
        "colab": {
          "base_uri": "https://localhost:8080/"
        },
        "outputId": "7aa2cf22-a997-4668-fad0-381108212869"
      },
      "execution_count": null,
      "outputs": [
        {
          "output_type": "stream",
          "name": "stdout",
          "text": [
            "     Country_name Country_code  Year  No of Unemployed\n",
            "0     Afghanistan          AFG  1991             10.65\n",
            "1     Afghanistan          AFG  1992             10.82\n",
            "2     Afghanistan          AFG  1993             10.72\n",
            "3     Afghanistan          AFG  1994             10.73\n",
            "4     Afghanistan          AFG  1995             11.18\n",
            "...           ...          ...   ...               ...\n",
            "7280     Zimbabwe          ZWE  2017              4.78\n",
            "7281     Zimbabwe          ZWE  2018              4.80\n",
            "7282     Zimbabwe          ZWE  2019              4.83\n",
            "7283     Zimbabwe          ZWE  2020              5.35\n",
            "7284     Zimbabwe          ZWE  2021              5.17\n",
            "\n",
            "[7285 rows x 4 columns]\n"
          ]
        }
      ]
    },
    {
      "cell_type": "code",
      "source": [
        "\n",
        "def descriptive_stats(country_code):\n",
        "\n",
        "    # Filter data for the specified country\n",
        "    df_country = df_pivot[df_pivot['Country_code'] == country_code]\n",
        "\n",
        "    # Compute mean, median, mode, and standard deviation\n",
        "    mean = df_country['No of Unemployed'].mean().item()\n",
        "    median = df_country['No of Unemployed'].median().item()\n",
        "    mode = stats.mode(df_country['No of Unemployed'],axis=None)[0][0]\n",
        "    std_dev = df_country['No of Unemployed'].std().item()\n",
        "\n",
        "    # Print the statistics\n",
        "    print(f\"Mean: {mean:.2f}\")\n",
        "    print(f\"Median: {median:.2f}\")\n",
        "    print(f\"Mode: {mode:.2f}\")\n",
        "    print(f\"Standard deviation: {std_dev:.2f}\")\n",
        "\n",
        "    # Get the year with maximum and minimum unemployment\n",
        "    max_year = df_country['Year'].loc[df_country['No of Unemployed'].idxmax()]\n",
        "    min_year = df_country['Year'].loc[df_country['No of Unemployed'].idxmin()]\n",
        "\n",
        "   # Print the results\n",
        "    print(f'\\nYear with maximum unemployment {max_year}\\nYear with minimum unemployment {min_year}')\n",
        "\n",
        "descriptive_stats('WSM')"
      ],
      "metadata": {
        "id": "_5z6ODeoDF4R",
        "colab": {
          "base_uri": "https://localhost:8080/"
        },
        "outputId": "95418e01-eec7-4688-e71a-796314da5f81"
      },
      "execution_count": null,
      "outputs": [
        {
          "output_type": "stream",
          "name": "stdout",
          "text": [
            "Mean: 5.84\n",
            "Median: 5.36\n",
            "Mode: 2.10\n",
            "Standard deviation: 2.28\n",
            "\n",
            "Year with maximum unemployment 2021\n",
            "Year with minimum unemployment 1991\n"
          ]
        }
      ]
    },
    {
      "cell_type": "code",
      "source": [
        "#Top 5 countries with highest unemployemt in year 2021\n",
        "df_pivot['Year'] = df_pivot['Year'].astype(int)\n",
        "df_pivot['No of Unemployed'] = df_pivot['No of Unemployed'].astype(float)\n",
        "top_5_countries=df_pivot[df_pivot['Year']==2021].sort_values(by='No of Unemployed', ascending=False).head(5)['Country_name']\n",
        "print(top_5_countries)"
      ],
      "metadata": {
        "colab": {
          "base_uri": "https://localhost:8080/"
        },
        "id": "jD1_EpmQRlB_",
        "outputId": "1295fafc-5c5e-4979-9f49-0974293b5dc2"
      },
      "execution_count": null,
      "outputs": [
        {
          "output_type": "stream",
          "name": "stdout",
          "text": [
            "5982          South Africa\n",
            "1611              Djibouti\n",
            "1983              Eswatini\n",
            "7160    West Bank and Gaza\n",
            "743               Botswana\n",
            "Name: Country_name, dtype: object\n"
          ]
        }
      ]
    },
    {
      "cell_type": "code",
      "source": [
        "#Top 3 countries with unemployement more than 5 lcs in 2021\n",
        "top_3_countries=df_pivot[(df_pivot['Year']==2021) & (df_pivot['No of Unemployed']> 5.0)].sort_values(by='No of Unemployed',ascending=False).head(3)['Country_name']\n",
        "print(top_3_countries)"
      ],
      "metadata": {
        "colab": {
          "base_uri": "https://localhost:8080/"
        },
        "id": "6fafL6Nsgyhd",
        "outputId": "abec6554-49d1-40dd-e6ff-98d5c15a9d2b"
      },
      "execution_count": null,
      "outputs": [
        {
          "output_type": "stream",
          "name": "stdout",
          "text": [
            "5982    South Africa\n",
            "1611        Djibouti\n",
            "1983        Eswatini\n",
            "Name: Country_name, dtype: object\n"
          ]
        }
      ]
    },
    {
      "cell_type": "code",
      "source": [
        "# Convert the top 3 countries to a list\n",
        "top_5_countries = list(top_5_countries)\n",
        "\n",
        "# Filter the df_pivot dataframe by the top 3 countries and the years 1991 to 2021\n",
        "df_top_5 = df_pivot[(df_pivot['Country_name'].isin(top_5_countries)) & (df_pivot['Year'] >= 1991) & (df_pivot['Year'] <= 2021)]\n",
        "\n",
        "#Create an empty change list\n",
        "change_list=[]\n",
        "\n",
        "# Calculate the percentage change in unemployment for each country\n",
        "for country in top_5_countries:\n",
        "    df_country = df_top_5[df_top_5['Country_name'] == country]\n",
        "    unemployment_vals = df_country['No of Unemployed'].values\n",
        "    changes = [(unemployment_vals[i] - unemployment_vals[i+1])/unemployment_vals[i] for i in range(len(unemployment_vals)-1)]\n",
        "    changes.insert(0,0)\n",
        "    change_list+=changes\n",
        "    print(f\"Percentage change in unemployment for {country}:\")\n",
        "    for i, change in enumerate(changes):\n",
        "        print(f\"Change in {df_country['Year'].values[i]}: {change:.2%}\")"
      ],
      "metadata": {
        "colab": {
          "base_uri": "https://localhost:8080/"
        },
        "id": "p4C9cyXyns3m",
        "outputId": "6a4ff9e8-959a-412a-b078-8affc7a96166"
      },
      "execution_count": null,
      "outputs": [
        {
          "output_type": "stream",
          "name": "stdout",
          "text": [
            "Percentage change in unemployment for South Africa:\n",
            "Change in 1991: 0.00%\n",
            "Change in 1992: -0.10%\n",
            "Change in 1993: 0.20%\n",
            "Change in 1994: 0.10%\n",
            "Change in 1995: 0.00%\n",
            "Change in 1996: 0.07%\n",
            "Change in 1997: -0.13%\n",
            "Change in 1998: -0.13%\n",
            "Change in 1999: 0.13%\n",
            "Change in 2000: 0.10%\n",
            "Change in 2001: -2.71%\n",
            "Change in 2002: -8.47%\n",
            "Change in 2003: 2.94%\n",
            "Change in 2004: 8.85%\n",
            "Change in 2005: 1.12%\n",
            "Change in 2006: 2.68%\n",
            "Change in 2007: 6.35%\n",
            "Change in 2008: 15.56%\n",
            "Change in 2009: -4.95%\n",
            "Change in 2010: -4.93%\n",
            "Change in 2011: 0.16%\n",
            "Change in 2012: -0.37%\n",
            "Change in 2013: 0.69%\n",
            "Change in 2014: -1.34%\n",
            "Change in 2015: -1.04%\n",
            "Change in 2016: -5.53%\n",
            "Change in 2017: -1.88%\n",
            "Change in 2018: 0.48%\n",
            "Change in 2019: -5.80%\n",
            "Change in 2020: -2.63%\n",
            "Change in 2021: -14.85%\n",
            "Percentage change in unemployment for Djibouti:\n",
            "Change in 1991: 0.00%\n",
            "Change in 1992: 0.54%\n",
            "Change in 1993: 0.03%\n",
            "Change in 1994: 0.58%\n",
            "Change in 1995: 0.28%\n",
            "Change in 1996: 0.35%\n",
            "Change in 1997: 0.49%\n",
            "Change in 1998: 0.42%\n",
            "Change in 1999: 0.52%\n",
            "Change in 2000: 0.32%\n",
            "Change in 2001: 0.42%\n",
            "Change in 2002: 0.50%\n",
            "Change in 2003: 0.43%\n",
            "Change in 2004: 0.39%\n",
            "Change in 2005: 0.47%\n",
            "Change in 2006: 0.54%\n",
            "Change in 2007: 0.47%\n",
            "Change in 2008: 0.47%\n",
            "Change in 2009: 0.33%\n",
            "Change in 2010: 0.59%\n",
            "Change in 2011: 0.63%\n",
            "Change in 2012: 0.41%\n",
            "Change in 2013: 0.52%\n",
            "Change in 2014: 0.60%\n",
            "Change in 2015: 0.57%\n",
            "Change in 2016: 0.53%\n",
            "Change in 2017: 0.50%\n",
            "Change in 2018: -0.50%\n",
            "Change in 2019: -0.65%\n",
            "Change in 2020: -7.70%\n",
            "Change in 2021: 0.00%\n",
            "Percentage change in unemployment for Eswatini:\n",
            "Change in 1991: 0.00%\n",
            "Change in 1992: 0.23%\n",
            "Change in 1993: 0.14%\n",
            "Change in 1994: 0.09%\n",
            "Change in 1995: 0.28%\n",
            "Change in 1996: -1.99%\n",
            "Change in 1997: -1.90%\n",
            "Change in 1998: -2.58%\n",
            "Change in 1999: -2.47%\n",
            "Change in 2000: -2.49%\n",
            "Change in 2001: -2.43%\n",
            "Change in 2002: -2.13%\n",
            "Change in 2003: -2.29%\n",
            "Change in 2004: -2.24%\n",
            "Change in 2005: -2.07%\n",
            "Change in 2006: -2.11%\n",
            "Change in 2007: -2.17%\n",
            "Change in 2008: 1.98%\n",
            "Change in 2009: 2.28%\n",
            "Change in 2010: 2.37%\n",
            "Change in 2011: 2.27%\n",
            "Change in 2012: 2.56%\n",
            "Change in 2013: 2.39%\n",
            "Change in 2014: 2.36%\n",
            "Change in 2015: 2.67%\n",
            "Change in 2016: 2.61%\n",
            "Change in 2017: -0.13%\n",
            "Change in 2018: -0.18%\n",
            "Change in 2019: -0.22%\n",
            "Change in 2020: -11.69%\n",
            "Change in 2021: -0.98%\n",
            "Percentage change in unemployment for West Bank and Gaza:\n",
            "Change in 1991: 0.00%\n",
            "Change in 1992: 2.50%\n",
            "Change in 1993: 0.18%\n",
            "Change in 1994: 1.24%\n",
            "Change in 1995: 0.45%\n",
            "Change in 1996: 0.63%\n",
            "Change in 1997: 1.81%\n",
            "Change in 1998: 1.02%\n",
            "Change in 1999: 0.75%\n",
            "Change in 2000: 0.09%\n",
            "Change in 2001: -102.16%\n",
            "Change in 2002: -27.78%\n",
            "Change in 2003: 16.24%\n",
            "Change in 2004: -0.91%\n",
            "Change in 2005: 13.74%\n",
            "Change in 2006: 5.04%\n",
            "Change in 2007: 3.84%\n",
            "Change in 2008: -25.33%\n",
            "Change in 2009: 10.74%\n",
            "Change in 2010: -4.74%\n",
            "Change in 2011: 17.83%\n",
            "Change in 2012: -9.09%\n",
            "Change in 2013: -3.59%\n",
            "Change in 2014: -3.22%\n",
            "Change in 2015: -12.03%\n",
            "Change in 2016: -4.09%\n",
            "Change in 2017: -7.27%\n",
            "Change in 2018: -2.26%\n",
            "Change in 2019: 3.50%\n",
            "Change in 2020: -2.17%\n",
            "Change in 2021: 3.82%\n",
            "Percentage change in unemployment for Botswana:\n",
            "Change in 1991: 0.00%\n",
            "Change in 1992: -17.95%\n",
            "Change in 1993: -15.09%\n",
            "Change in 1994: -13.01%\n",
            "Change in 1995: -0.80%\n",
            "Change in 1996: -1.03%\n",
            "Change in 1997: 1.95%\n",
            "Change in 1998: 1.46%\n",
            "Change in 1999: 12.32%\n",
            "Change in 2000: 13.18%\n",
            "Change in 2001: -16.75%\n",
            "Change in 2002: -13.97%\n",
            "Change in 2003: -12.64%\n",
            "Change in 2004: 8.28%\n",
            "Change in 2005: 9.25%\n",
            "Change in 2006: 10.25%\n",
            "Change in 2007: 3.26%\n",
            "Change in 2008: 3.26%\n",
            "Change in 2009: 2.82%\n",
            "Change in 2010: -10.45%\n",
            "Change in 2011: -3.14%\n",
            "Change in 2012: -2.88%\n",
            "Change in 2013: -2.37%\n",
            "Change in 2014: -3.04%\n",
            "Change in 2015: -2.90%\n",
            "Change in 2016: -2.24%\n",
            "Change in 2017: -2.57%\n",
            "Change in 2018: -2.32%\n",
            "Change in 2019: -2.45%\n",
            "Change in 2020: -10.26%\n",
            "Change in 2021: 0.84%\n"
          ]
        }
      ]
    },
    {
      "cell_type": "markdown",
      "source": [
        "# Prescriptive Statistics"
      ],
      "metadata": {
        "id": "e-yg5L4KPmaz"
      }
    },
    {
      "cell_type": "code",
      "source": [
        "#Year in which country having country_code ‘BGR’ had the minimum unemployment issue.\n",
        "descriptive_stats('BGR')"
      ],
      "metadata": {
        "colab": {
          "base_uri": "https://localhost:8080/"
        },
        "id": "NyKAo19BN_ui",
        "outputId": "cb564e02-fe98-4078-f9f6-9e4ed4bf39e2"
      },
      "execution_count": null,
      "outputs": [
        {
          "output_type": "stream",
          "name": "stdout",
          "text": [
            "Mean: 10.92\n",
            "Median: 11.26\n",
            "Mode: 11.10\n",
            "Standard deviation: 4.06\n",
            "\n",
            "Year with maximum unemployment 2001\n",
            "Year with minimum unemployment 2019\n"
          ]
        }
      ]
    },
    {
      "cell_type": "markdown",
      "source": [
        "In 2019, BGR had the minimum unemployemnt issue"
      ],
      "metadata": {
        "id": "S4YWocOcRhX0"
      }
    },
    {
      "cell_type": "code",
      "source": [
        "#Adding Percentage change column in the data frame\n",
        "df_top_5['Percentage change']=change_list\n",
        "df_top_5=df_top_5.drop(columns=['Year','No of Unemployed'])\n",
        "df_top_5"
      ],
      "metadata": {
        "colab": {
          "base_uri": "https://localhost:8080/",
          "height": 424
        },
        "id": "g-pQ_vtkQQlz",
        "outputId": "b2144efe-9826-40d7-ce86-b76aad90a53f"
      },
      "execution_count": null,
      "outputs": [
        {
          "output_type": "execute_result",
          "data": {
            "text/plain": [
              "            Country_name Country_code  Percentage change\n",
              "713             Botswana          BWA           0.000000\n",
              "714             Botswana          BWA          -0.001002\n",
              "715             Botswana          BWA           0.002001\n",
              "716             Botswana          BWA           0.001003\n",
              "717             Botswana          BWA           0.000000\n",
              "...                  ...          ...                ...\n",
              "7156  West Bank and Gaza          PSE          -0.025678\n",
              "7157  West Bank and Gaza          PSE          -0.023180\n",
              "7158  West Bank and Gaza          PSE          -0.024468\n",
              "7159  West Bank and Gaza          PSE          -0.102609\n",
              "7160  West Bank and Gaza          PSE           0.008424\n",
              "\n",
              "[155 rows x 3 columns]"
            ],
            "text/html": [
              "\n",
              "  <div id=\"df-e77bcafd-3577-4dc3-863f-66878511d637\">\n",
              "    <div class=\"colab-df-container\">\n",
              "      <div>\n",
              "<style scoped>\n",
              "    .dataframe tbody tr th:only-of-type {\n",
              "        vertical-align: middle;\n",
              "    }\n",
              "\n",
              "    .dataframe tbody tr th {\n",
              "        vertical-align: top;\n",
              "    }\n",
              "\n",
              "    .dataframe thead th {\n",
              "        text-align: right;\n",
              "    }\n",
              "</style>\n",
              "<table border=\"1\" class=\"dataframe\">\n",
              "  <thead>\n",
              "    <tr style=\"text-align: right;\">\n",
              "      <th></th>\n",
              "      <th>Country_name</th>\n",
              "      <th>Country_code</th>\n",
              "      <th>Percentage change</th>\n",
              "    </tr>\n",
              "  </thead>\n",
              "  <tbody>\n",
              "    <tr>\n",
              "      <th>713</th>\n",
              "      <td>Botswana</td>\n",
              "      <td>BWA</td>\n",
              "      <td>0.000000</td>\n",
              "    </tr>\n",
              "    <tr>\n",
              "      <th>714</th>\n",
              "      <td>Botswana</td>\n",
              "      <td>BWA</td>\n",
              "      <td>-0.001002</td>\n",
              "    </tr>\n",
              "    <tr>\n",
              "      <th>715</th>\n",
              "      <td>Botswana</td>\n",
              "      <td>BWA</td>\n",
              "      <td>0.002001</td>\n",
              "    </tr>\n",
              "    <tr>\n",
              "      <th>716</th>\n",
              "      <td>Botswana</td>\n",
              "      <td>BWA</td>\n",
              "      <td>0.001003</td>\n",
              "    </tr>\n",
              "    <tr>\n",
              "      <th>717</th>\n",
              "      <td>Botswana</td>\n",
              "      <td>BWA</td>\n",
              "      <td>0.000000</td>\n",
              "    </tr>\n",
              "    <tr>\n",
              "      <th>...</th>\n",
              "      <td>...</td>\n",
              "      <td>...</td>\n",
              "      <td>...</td>\n",
              "    </tr>\n",
              "    <tr>\n",
              "      <th>7156</th>\n",
              "      <td>West Bank and Gaza</td>\n",
              "      <td>PSE</td>\n",
              "      <td>-0.025678</td>\n",
              "    </tr>\n",
              "    <tr>\n",
              "      <th>7157</th>\n",
              "      <td>West Bank and Gaza</td>\n",
              "      <td>PSE</td>\n",
              "      <td>-0.023180</td>\n",
              "    </tr>\n",
              "    <tr>\n",
              "      <th>7158</th>\n",
              "      <td>West Bank and Gaza</td>\n",
              "      <td>PSE</td>\n",
              "      <td>-0.024468</td>\n",
              "    </tr>\n",
              "    <tr>\n",
              "      <th>7159</th>\n",
              "      <td>West Bank and Gaza</td>\n",
              "      <td>PSE</td>\n",
              "      <td>-0.102609</td>\n",
              "    </tr>\n",
              "    <tr>\n",
              "      <th>7160</th>\n",
              "      <td>West Bank and Gaza</td>\n",
              "      <td>PSE</td>\n",
              "      <td>0.008424</td>\n",
              "    </tr>\n",
              "  </tbody>\n",
              "</table>\n",
              "<p>155 rows × 3 columns</p>\n",
              "</div>\n",
              "      <button class=\"colab-df-convert\" onclick=\"convertToInteractive('df-e77bcafd-3577-4dc3-863f-66878511d637')\"\n",
              "              title=\"Convert this dataframe to an interactive table.\"\n",
              "              style=\"display:none;\">\n",
              "        \n",
              "  <svg xmlns=\"http://www.w3.org/2000/svg\" height=\"24px\"viewBox=\"0 0 24 24\"\n",
              "       width=\"24px\">\n",
              "    <path d=\"M0 0h24v24H0V0z\" fill=\"none\"/>\n",
              "    <path d=\"M18.56 5.44l.94 2.06.94-2.06 2.06-.94-2.06-.94-.94-2.06-.94 2.06-2.06.94zm-11 1L8.5 8.5l.94-2.06 2.06-.94-2.06-.94L8.5 2.5l-.94 2.06-2.06.94zm10 10l.94 2.06.94-2.06 2.06-.94-2.06-.94-.94-2.06-.94 2.06-2.06.94z\"/><path d=\"M17.41 7.96l-1.37-1.37c-.4-.4-.92-.59-1.43-.59-.52 0-1.04.2-1.43.59L10.3 9.45l-7.72 7.72c-.78.78-.78 2.05 0 2.83L4 21.41c.39.39.9.59 1.41.59.51 0 1.02-.2 1.41-.59l7.78-7.78 2.81-2.81c.8-.78.8-2.07 0-2.86zM5.41 20L4 18.59l7.72-7.72 1.47 1.35L5.41 20z\"/>\n",
              "  </svg>\n",
              "      </button>\n",
              "      \n",
              "  <style>\n",
              "    .colab-df-container {\n",
              "      display:flex;\n",
              "      flex-wrap:wrap;\n",
              "      gap: 12px;\n",
              "    }\n",
              "\n",
              "    .colab-df-convert {\n",
              "      background-color: #E8F0FE;\n",
              "      border: none;\n",
              "      border-radius: 50%;\n",
              "      cursor: pointer;\n",
              "      display: none;\n",
              "      fill: #1967D2;\n",
              "      height: 32px;\n",
              "      padding: 0 0 0 0;\n",
              "      width: 32px;\n",
              "    }\n",
              "\n",
              "    .colab-df-convert:hover {\n",
              "      background-color: #E2EBFA;\n",
              "      box-shadow: 0px 1px 2px rgba(60, 64, 67, 0.3), 0px 1px 3px 1px rgba(60, 64, 67, 0.15);\n",
              "      fill: #174EA6;\n",
              "    }\n",
              "\n",
              "    [theme=dark] .colab-df-convert {\n",
              "      background-color: #3B4455;\n",
              "      fill: #D2E3FC;\n",
              "    }\n",
              "\n",
              "    [theme=dark] .colab-df-convert:hover {\n",
              "      background-color: #434B5C;\n",
              "      box-shadow: 0px 1px 3px 1px rgba(0, 0, 0, 0.15);\n",
              "      filter: drop-shadow(0px 1px 2px rgba(0, 0, 0, 0.3));\n",
              "      fill: #FFFFFF;\n",
              "    }\n",
              "  </style>\n",
              "\n",
              "      <script>\n",
              "        const buttonEl =\n",
              "          document.querySelector('#df-e77bcafd-3577-4dc3-863f-66878511d637 button.colab-df-convert');\n",
              "        buttonEl.style.display =\n",
              "          google.colab.kernel.accessAllowed ? 'block' : 'none';\n",
              "\n",
              "        async function convertToInteractive(key) {\n",
              "          const element = document.querySelector('#df-e77bcafd-3577-4dc3-863f-66878511d637');\n",
              "          const dataTable =\n",
              "            await google.colab.kernel.invokeFunction('convertToInteractive',\n",
              "                                                     [key], {});\n",
              "          if (!dataTable) return;\n",
              "\n",
              "          const docLinkHtml = 'Like what you see? Visit the ' +\n",
              "            '<a target=\"_blank\" href=https://colab.research.google.com/notebooks/data_table.ipynb>data table notebook</a>'\n",
              "            + ' to learn more about interactive tables.';\n",
              "          element.innerHTML = '';\n",
              "          dataTable['output_type'] = 'display_data';\n",
              "          await google.colab.output.renderOutput(dataTable, element);\n",
              "          const docLink = document.createElement('div');\n",
              "          docLink.innerHTML = docLinkHtml;\n",
              "          element.appendChild(docLink);\n",
              "        }\n",
              "      </script>\n",
              "    </div>\n",
              "  </div>\n",
              "  "
            ]
          },
          "metadata": {},
          "execution_count": 16
        }
      ]
    },
    {
      "cell_type": "code",
      "source": [
        "descriptive_stats('JPN')"
      ],
      "metadata": {
        "colab": {
          "base_uri": "https://localhost:8080/"
        },
        "id": "EruSrQobcgDA",
        "outputId": "25f977b3-86d0-4eaf-f86c-f2ef44b8a9e9"
      },
      "execution_count": null,
      "outputs": [
        {
          "output_type": "stream",
          "name": "stdout",
          "text": [
            "Mean: 3.76\n",
            "Median: 3.89\n",
            "Mode: 2.80\n",
            "Standard deviation: 1.00\n",
            "\n",
            "Year with maximum unemployment 2002\n",
            "Year with minimum unemployment 1991\n"
          ]
        }
      ]
    },
    {
      "cell_type": "markdown",
      "source": [
        "Minimum unemployment year=1991,hence we can only compare with the next year that is year 1992 and not with 1990 as we don't have data for it."
      ],
      "metadata": {
        "id": "1ijHvqKzxklE"
      }
    },
    {
      "cell_type": "code",
      "source": [
        "unemployment_1991 = df_pivot.loc[df_pivot['Year'] == 1991, 'No of Unemployed'].values[0]\n",
        "print(f\"The number of unemployed in Japan in 1991 was {unemployment_1991:.2f}\")\n",
        "\n",
        "unemployment_1992 = df_pivot.loc[df_pivot['Year'] == 1992, 'No of Unemployed'].values[0]\n",
        "print(f\"The number of unemployed in Japan in 1992 was {unemployment_1992:.2f}\")"
      ],
      "metadata": {
        "colab": {
          "base_uri": "https://localhost:8080/"
        },
        "id": "woCxr9qjv9Py",
        "outputId": "613f8f14-4c5f-48df-bb39-b02491b64939"
      },
      "execution_count": null,
      "outputs": [
        {
          "output_type": "stream",
          "name": "stdout",
          "text": [
            "The number of unemployed in Japan in 1991 was 10.65\n",
            "The number of unemployed in Japan in 1992 was 10.82\n"
          ]
        }
      ]
    },
    {
      "cell_type": "code",
      "source": [
        "countries = ['MDA', 'NAC', 'PAN', 'PAK', 'UGA']\n",
        "\n",
        "df_countries=df_pivot[(df_pivot['Country_code'].isin(countries)) & (df_pivot['Year'].isin(['2019', '2020']))]\n",
        "#print(len(df_countries))\n",
        "\n",
        "df_pivot['Country_code'].unique()\n",
        "df_pivot['Year'].unique()\n"
      ],
      "metadata": {
        "colab": {
          "base_uri": "https://localhost:8080/"
        },
        "id": "3vgWTF3QCrrm",
        "outputId": "62f17f05-b83c-453e-8064-0d48d4ebd12b"
      },
      "execution_count": null,
      "outputs": [
        {
          "output_type": "execute_result",
          "data": {
            "text/plain": [
              "array([1991, 1992, 1993, 1994, 1995, 1996, 1997, 1998, 1999, 2000, 2001,\n",
              "       2002, 2003, 2004, 2005, 2006, 2007, 2008, 2009, 2010, 2011, 2012,\n",
              "       2013, 2014, 2015, 2016, 2017, 2018, 2019, 2020, 2021])"
            ]
          },
          "metadata": {},
          "execution_count": 19
        }
      ]
    },
    {
      "cell_type": "markdown",
      "source": [
        "We can conclude from the above data that year 1992 there was rise in the unemployement and that rise was about 0.17."
      ],
      "metadata": {
        "id": "rz2--UPpyOE0"
      }
    },
    {
      "cell_type": "markdown",
      "source": [
        "As we are getting empty lists, we can conclude that  there were no countries among the mentioned countries which saw an upward or downward jump."
      ],
      "metadata": {
        "id": "4ceBUp2IMG5d"
      }
    },
    {
      "cell_type": "code",
      "source": [
        "# Select rows where Country_code is LSO\n",
        "df_lso = df_pivot[df_pivot['Country_code'] == 'LSO']\n",
        "\n",
        "# Compute percentage change column\n",
        "df_lso['Percentage change'] = df_lso['No of Unemployed'].pct_change()\n",
        "\n",
        "# Plot the percentage change\n",
        "plt.plot(df_lso['Year'], df_lso['Percentage change'])\n",
        "plt.xlabel('Year')\n",
        "plt.ylabel('Percentage change')\n",
        "plt.title('Percentage change in unemployment for LSO')\n",
        "plt.show()\n",
        "\n"
      ],
      "metadata": {
        "id": "1taCAd9AG_Ja",
        "colab": {
          "base_uri": "https://localhost:8080/",
          "height": 472
        },
        "outputId": "b760dd26-6a2f-4994-a450-4084cfe34203"
      },
      "execution_count": null,
      "outputs": [
        {
          "output_type": "display_data",
          "data": {
            "text/plain": [
              "<Figure size 640x480 with 1 Axes>"
            ],
            "image/png": "[encoded data removed]"
          },
          "metadata": {}
        }
      ]
    },
    {
      "cell_type": "markdown",
      "source": [
        "From the graph, it's seen that from years 1991 to 1997 there were very slight upward and downward movements, then there was a high downward movement from 1997 to 1999.\n",
        "\n",
        "After that it's seen that there were again slight downward and upward movements but from year 2019 there was a high upward movement and again fromyear 2020 to 2021 there was a high downward movement."
      ],
      "metadata": {
        "id": "cnykBCWmUltW"
      }
    },
    {
      "cell_type": "code",
      "source": [
        "def predict_future(consecutive_years):\n",
        "    # load data into a pandas dataframe\n",
        "    data = df_pivot\n",
        "\n",
        "    # convert \"Year\" column to datetime format\n",
        "    data['Year'] = pd.to_datetime(data['Year'], format='%Y')\n",
        "\n",
        "    # set \"Year\" column as the index\n",
        "    data = data.set_index('Year')\n",
        "\n",
        "    print(data.index)\n",
        "\n",
        "    # apply moving average model\n",
        "    data['moving_average'] = data['No of Unemployed'].rolling(window=3).mean()\n",
        "\n",
        "    # apply ARIMA model\n",
        "    model = ARIMA(data['No of Unemployed'], order=(1, 1, 1))\n",
        "    arima_fit = model.fit()\n",
        "    arima_forecast = arima_fit.forecast(steps=2)\n",
        "\n",
        "    # Add 2022 forecast to DataFrame\n",
        "    data.loc[pd.to_datetime('2022-01-01')] = [arima_forecast[0], None]\n",
        "\n",
        "   # Add 2023 forecast to DataFrame\n",
        "    data.loc[pd.to_datetime('2023-01-01')] = [arima_forecast[1], None]\n",
        "\n",
        "    data.loc[data.index[-1] + pd.DateOffset(years=1)] = [arima_forecast['2022-01-01'], None]\n",
        "    data.loc[data.index[-1] + pd.DateOffset(years=1)] = [arima_forecast['2023-01-01'], None]\n",
        "\n",
        "\n",
        "    forecast_date = datetime.strptime('2022-01-01', '%Y-%m-%d').date()\n",
        "    data.loc[data.index[-1] + pd.DateOffset(years=1)] = [arima_forecast[forecast_date], None]\n",
        "\n",
        "    forecast_date = datetime.strptime('2023-01-01', '%Y-%m-%d').date()\n",
        "    data.loc[data.index[-1] + pd.DateOffset(years=1)] = [arima_forecast[forecast_date], None]\n",
        "    data['arima_forecast'] = pd.concat([data['No of Unemployed'], arima_fit.predict(start='2022-01-01', end='2023-01-01')]).reset_index(drop=True)\n",
        "\n",
        "    # plot the actual and forecasted values\n",
        "    data.plot(y=['No of Unemployed', 'moving_average', 'arima_forecast'], kind='line')\n",
        "\n",
        "    # calculate MAPE for both models\n",
        "    mape_ma = MAPE(data['No of Unemployed'].tail(consecutive_years), data['moving_average'].tail(consecutive_years))\n",
        "    mape_arima = MAPE(data['No of Unemployed'].tail(consecutive_years), data['arima_forecast'].tail(consecutive_years))\n",
        "\n",
        "    # find the maximum and minimum number of unemployed for each country for 2022 and 2023\n",
        "    max_min_data = data.loc[data.index.year.isin([2022, 2023])].groupby(['Country_name'])['No of Unemployed'].agg(['max', 'min'])\n",
        "\n",
        "    # find the forecasted year with the maximum overall unemployment\n",
        "    max_unemployed_year = data[['No of Unemployed', 'arima_forecast']].sum(axis=1).idxmax().year\n",
        "\n",
        "    # find which countries' unemployment in 2022 increased compared to 2021\n",
        "    increased_countries = data.loc[data.index.year.isin([2021, 2022])].groupby(['Country_name'])['No of Unemployed'].agg(lambda x: x.iloc[1] > x.iloc[0])\n",
        "\n",
        "    return max_min_data, max_unemployed_year, increased_countries\n",
        "\n",
        "def MAPE(actual, predicted):\n",
        "    return np.mean(np.abs((actual - predicted) / actual)) * 100\n",
        "\n",
        "\n"
      ],
      "metadata": {
        "id": "xsMbsKoFupEG"
      },
      "execution_count": null,
      "outputs": []
    },
    {
      "cell_type": "code",
      "source": [
        "def predict_future(consecutive_years):\n",
        "    # load data into a pandas dataframe\n",
        "    data = df_pivot\n",
        "\n",
        "    # convert \"Year\" column to datetime format\n",
        "    data['Year'] = pd.to_datetime(data['Year'], format='%Y')\n",
        "\n",
        "    # set \"Year\" column as the index\n",
        "    data = data.set_index('Year')\n",
        "\n",
        "    print(data.index)\n",
        "\n",
        "    # apply moving average model\n",
        "    data['moving_average'] = data['No of Unemployed'].rolling(window=3).mean()\n",
        "\n",
        "    # apply ARIMA model\n",
        "    model = ARIMA(data['No of Unemployed'], order=(1, 1, 1))\n",
        "    arima_fit = model.fit()\n",
        "    arima_forecast = arima_fit.forecast(steps=2)\n",
        "\n",
        "    # Add 2022 forecast to DataFrame\n",
        "    data.loc[pd.to_datetime('2022-01-01')] = [arima_forecast[0], None]\n",
        "\n",
        "   # Add 2023 forecast to DataFrame\n",
        "    data.loc[pd.to_datetime('2023-01-01')] = [arima_forecast[1], None]\n",
        "\n",
        "    data.loc[data.index[-1] + pd.DateOffset(years=1)] = [arima_forecast[0], None]\n",
        "    data.loc[data.index[-1] + pd.DateOffset(years=1)] = [arima_forecast[1], None]\n",
        "\n",
        "\n",
        "    forecast_date = datetime.strptime('2022-01-01', '%Y-%m-%d').date()\n",
        "    data.loc[data.index[-1] + pd.DateOffset(years=1)] = [arima_forecast[forecast_date.year], None]\n",
        "\n",
        "    forecast_date = datetime.strptime('2023-01-01', '%Y-%m-%d').date()\n",
        "    data.loc[data.index[-1] + pd.DateOffset(years=1)] = [arima_forecast[forecast_date.year], None]\n",
        "    data['arima_forecast'] = pd.concat([data['No of Unemployed'], arima_fit.predict(start='2022-01-01', end='2023-01-01')]).reset_index(drop=True)\n",
        "\n",
        "    # plot the actual and forecasted values\n",
        "    data.plot(y=['No of Unemployed', 'moving_average', 'arima_forecast'], kind='line')\n",
        "\n",
        "    # calculate MAPE for both models\n",
        "    mape_ma = MAPE(data['No of Unemployed'].tail(consecutive_years), data['moving_average'].tail(consecutive_years))\n",
        "    mape\n"
      ],
      "metadata": {
        "id": "DSanPdHPTQQ0"
      },
      "execution_count": null,
      "outputs": []
    },
    {
      "cell_type": "code",
      "source": [
        "\n"
      ],
      "metadata": {
        "id": "avGbln2-1yJo"
      },
      "execution_count": null,
      "outputs": []
    }
  ]
}